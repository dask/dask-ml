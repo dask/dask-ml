{
  "cells": [
    {
      "cell_type": "code",
      "execution_count": null,
      "metadata": {
        "collapsed": false
      },
      "outputs": [],
      "source": [
        "%matplotlib inline"
      ]
    },
    {
      "cell_type": "markdown",
      "metadata": {},
      "source": [
        "\n\nParallel Prediction Example\n===========================\n\nThis example demonstrates :class:`wrappers.ParallelPostFit`. A\n:class:`sklearn.svm.SVC` is fit on a small dataset that easily fits in memory.\n\nAfter training, we predict for successively larger datasets. We compare\n\n1. The serial prediction time using the regular ``SVC.predict`` method\n2. The parallel prediction time using :meth:`ParallelPostFit.predict``\n\nWe see that the parallel version is faster, especially for larger datasets.\nAdditionally, the parallel version from ``ParallelPostFit`` scales out to\nlarger than memory datasets.\n\nWhile only ``predict`` is demonstrated here, :class:`wrappers.ParallelPostFit`\nis equally useful for ``predict_proba`` and ``transform``.\n\n"
      ]
    },
    {
      "cell_type": "code",
      "execution_count": null,
      "metadata": {
        "collapsed": false
      },
      "outputs": [],
      "source": [
        "from timeit import default_timer as tic\n\nimport pandas as pd\nimport seaborn as sns\nimport sklearn.datasets\nfrom sklearn.svm import SVC\n\nimport dask_ml.datasets\nfrom dask_ml.wrappers import ParallelPostFit\n\nX, y = sklearn.datasets.make_classification(n_samples=1000)\nclf = ParallelPostFit(SVC())\nclf.fit(X, y)\n\n\nNs = [100_000, 200_000, 400_000, 800_000]\ntimings = []\n\n\nfor n in Ns:\n    X, y = dask_ml.datasets.make_classification(n_samples=n,\n                                                random_state=n,\n                                                chunks=n // 20)\n    t1 = tic()\n    # Serial scikit-learn version\n    clf.estimator.predict(X)\n    timings.append(('Scikit-Learn', n, tic() - t1))\n\n    t1 = tic()\n    # Parallelized scikit-learn version\n    clf.predict(X).compute()\n    timings.append(('dask-ml', n, tic() - t1))\n\n\ndf = pd.DataFrame(timings,\n                  columns=['method', 'Number of Samples', 'Predict Time'])\nax = sns.factorplot(x='Number of Samples', y='Predict Time', hue='method',\n                    data=df, aspect=1.5)"
      ]
    }
  ],
  "metadata": {
    "kernelspec": {
      "display_name": "Python 3",
      "language": "python",
      "name": "python3"
    },
    "language_info": {
      "codemirror_mode": {
        "name": "ipython",
        "version": 3
      },
      "file_extension": ".py",
      "mimetype": "text/x-python",
      "name": "python",
      "nbconvert_exporter": "python",
      "pygments_lexer": "ipython3",
      "version": "3.6.1"
    }
  },
  "nbformat": 4,
  "nbformat_minor": 0
}