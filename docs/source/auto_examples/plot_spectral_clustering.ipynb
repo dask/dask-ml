{
  "cells": [
    {
      "cell_type": "code",
      "execution_count": null,
      "metadata": {
        "collapsed": false
      },
      "outputs": [],
      "source": [
        "%matplotlib inline"
      ]
    },
    {
      "cell_type": "markdown",
      "metadata": {},
      "source": [
        "\n\nSpectral Clustering Example\n===========================\n\nThis example shows how dask-ml's ``SpectralClustering`` scales with the\nnumber of samples, compared to scikit-learn's implementation. The dask\nversion uses an approximation to the affinity matrix, which avoids an\navoids an expensive computation at the cost of some approximation error.\n\n"
      ]
    },
    {
      "cell_type": "code",
      "execution_count": null,
      "metadata": {
        "collapsed": false
      },
      "outputs": [],
      "source": [
        "from sklearn.datasets import make_circles\nfrom sklearn.utils import shuffle\nimport pandas as pd\n\nfrom timeit import default_timer as tic\nimport sklearn.cluster\nimport dask_ml.cluster\nimport seaborn as sns\n\nNs = [2500, 5000, 7500, 10000]\nX, y = make_circles(n_samples=10_000, noise=0.05, random_state=0, factor=0.5)\nX, y = shuffle(X, y)\n\ntimings = []\nfor n in Ns:\n    X, y = make_circles(n_samples=n, random_state=n, noise=0.5, factor=0.5)\n    t1 = tic()\n    sklearn.cluster.SpectralClustering(n_clusters=2).fit(X)\n    timings.append(('Scikit-Learn (exact)', n, tic() - t1))\n    t1 = tic()\n    dask_ml.cluster.SpectralClustering(n_clusters=2, n_components=100).fit(X)\n    timings.append(('dask-ml (approximate)', n, tic() - t1))\n\n\ndf = pd.DataFrame(timings, columns=['method', 'Number of Samples', 'Fit Time'])\nsns.factorplot(x='Number of Samples', y='Fit Time', hue='method',\n               data=df, aspect=1.5)"
      ]
    }
  ],
  "metadata": {
    "kernelspec": {
      "display_name": "Python 3",
      "language": "python",
      "name": "python3"
    },
    "language_info": {
      "codemirror_mode": {
        "name": "ipython",
        "version": 3
      },
      "file_extension": ".py",
      "mimetype": "text/x-python",
      "name": "python",
      "nbconvert_exporter": "python",
      "pygments_lexer": "ipython3",
      "version": "3.6.1"
    }
  },
  "nbformat": 4,
  "nbformat_minor": 0
}