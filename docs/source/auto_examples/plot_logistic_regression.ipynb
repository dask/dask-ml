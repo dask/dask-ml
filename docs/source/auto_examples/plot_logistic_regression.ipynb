{
  "cells": [
    {
      "cell_type": "code",
      "execution_count": null,
      "metadata": {
        "collapsed": false
      },
      "outputs": [],
      "source": [
        "%matplotlib inline"
      ]
    },
    {
      "cell_type": "markdown",
      "metadata": {},
      "source": [
        "\n\nLogistic Regression Example\n===========================\n\nComparison of scaling.\n\n"
      ]
    },
    {
      "cell_type": "code",
      "execution_count": null,
      "metadata": {
        "collapsed": false
      },
      "outputs": [],
      "source": [
        "from dask_ml.datasets import make_classification\nimport pandas as pd\n\nfrom timeit import default_timer as tic\nimport sklearn.linear_model\nimport dask_ml.linear_model\nimport seaborn as sns\n\nNs = [2500, 5000, 7500, 10000]\n\ntimings = []\n\nfor n in Ns:\n    X, y = make_classification(n_samples=n, random_state=n, chunks=n // 20)\n    t1 = tic()\n    sklearn.linear_model.LogisticRegression().fit(X, y)\n    timings.append(('Scikit-Learn', n, tic() - t1))\n    t1 = tic()\n    dask_ml.linear_model.LogisticRegression().fit(X, y)\n    timings.append(('dask-ml', n, tic() - t1))\n\n\ndf = pd.DataFrame(timings, columns=['method', 'Number of Samples', 'Fit Time'])\nsns.factorplot(x='Number of Samples', y='Fit Time', hue='method',\n               data=df, aspect=1.5)"
      ]
    }
  ],
  "metadata": {
    "kernelspec": {
      "display_name": "Python 3",
      "language": "python",
      "name": "python3"
    },
    "language_info": {
      "codemirror_mode": {
        "name": "ipython",
        "version": 3
      },
      "file_extension": ".py",
      "mimetype": "text/x-python",
      "name": "python",
      "nbconvert_exporter": "python",
      "pygments_lexer": "ipython3",
      "version": "3.6.1"
    }
  },
  "nbformat": 4,
  "nbformat_minor": 0
}