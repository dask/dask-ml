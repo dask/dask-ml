{
 "cells": [
  {
   "cell_type": "code",
   "execution_count": 26,
   "metadata": {},
   "outputs": [],
   "source": [
    "import string\n",
    "import numpy as np\n",
    "import pandas as pd\n",
    "import dask.array as da\n",
    "import dask.dataframe as dd\n",
    "import dask_ml.preprocessing\n",
    "import sklearn.preprocessing\n",
    "from dask_ml.preprocessing._encoders import *\n",
    "\n",
    "X = np.array([\n",
    "    0, 0, 1, 2, 0, 1\n",
    "]).reshape(-1, 2)"
   ]
  },
  {
   "cell_type": "code",
   "execution_count": 28,
   "metadata": {},
   "outputs": [
    {
     "data": {
      "text/plain": [
       "OneHotEncoder(categorical_features=None, categories='auto',\n",
       "       dtype=<class 'numpy.float64'>, handle_unknown='error',\n",
       "       n_values=None, sparse=True)"
      ]
     },
     "execution_count": 28,
     "metadata": {},
     "output_type": "execute_result"
    }
   ],
   "source": [
    "a = sklearn.preprocessing.OneHotEncoder(categories='auto')\n",
    "a.fit(X)"
   ]
  },
  {
   "cell_type": "code",
   "execution_count": 30,
   "metadata": {},
   "outputs": [
    {
     "data": {
      "text/plain": [
       "<3x5 sparse matrix of type '<class 'numpy.float64'>'\n",
       "\twith 6 stored elements in Compressed Sparse Row format>"
      ]
     },
     "execution_count": 30,
     "metadata": {},
     "output_type": "execute_result"
    }
   ],
   "source": [
    "a.transform(X)"
   ]
  },
  {
   "cell_type": "code",
   "execution_count": 29,
   "metadata": {},
   "outputs": [
    {
     "data": {
      "text/plain": [
       "OneHotEncoder(categorical_features=None, categories='auto',\n",
       "       dtype=<class 'numpy.float64'>, handle_unknown='error',\n",
       "       n_values=None, sparse=True)"
      ]
     },
     "execution_count": 29,
     "metadata": {},
     "output_type": "execute_result"
    }
   ],
   "source": [
    "dX = da.from_array(X, 2)\n",
    "b = dask_ml.preprocessing.OneHotEncoder(categories='auto')\n",
    "b.fit(dX)"
   ]
  },
  {
   "cell_type": "code",
   "execution_count": 18,
   "metadata": {},
   "outputs": [],
   "source": [
    "self = b\n",
    "X = dX\n",
    "\n",
    "X_temp = check_array(X, dtype=None)\n",
    "\n",
    "if not hasattr(X, 'dtype') and np.issubdtype(X_temp.dtype, np.str_):\n",
    "    X = check_array(X, dtype=np.object)\n",
    "else:\n",
    "    X = X_temp\n",
    "\n",
    "n_samples, n_features = X.shape\n",
    "X_int, X_mask = self._transform(X, handle_unknown=self.handle_unknown)"
   ]
  },
  {
   "cell_type": "code",
   "execution_count": 20,
   "metadata": {},
   "outputs": [
    {
     "data": {
      "text/plain": [
       "array([[0],\n",
       "       [0],\n",
       "       [1],\n",
       "       [2],\n",
       "       [0],\n",
       "       [1]])"
      ]
     },
     "execution_count": 20,
     "metadata": {},
     "output_type": "execute_result"
    }
   ],
   "source": [
    "X_int.compute()"
   ]
  },
  {
   "cell_type": "code",
   "execution_count": 21,
   "metadata": {},
   "outputs": [
    {
     "data": {
      "text/plain": [
       "dask.array<ones, shape=(6, 1), dtype=bool, chunksize=(2, 1)>"
      ]
     },
     "execution_count": 21,
     "metadata": {},
     "output_type": "execute_result"
    }
   ],
   "source": [
    "X_mask"
   ]
  },
  {
   "cell_type": "code",
   "execution_count": 22,
   "metadata": {},
   "outputs": [],
   "source": [
    "X_temp = check_array(X, dtype=None)\n",
    "\n",
    "if not hasattr(X, 'dtype') and np.issubdtype(X_temp.dtype, np.str_):\n",
    "    X = check_array(X, dtype=np.object)\n",
    "else:\n",
    "    X = X_temp\n",
    "\n",
    "n_samples, n_features = X.shape"
   ]
  },
  {
   "cell_type": "code",
   "execution_count": 23,
   "metadata": {},
   "outputs": [
    {
     "data": {
      "text/plain": [
       "<6x3 sparse matrix of type '<class 'numpy.float64'>'\n",
       "\twith 6 stored elements in Compressed Sparse Row format>"
      ]
     },
     "execution_count": 23,
     "metadata": {},
     "output_type": "execute_result"
    }
   ],
   "source": [
    "a.transform(X)"
   ]
  },
  {
   "cell_type": "code",
   "execution_count": 24,
   "metadata": {},
   "outputs": [
    {
     "name": "stdout",
     "output_type": "stream",
     "text": [
      "> /Users/taugspurger/sandbox/dask-ml/dask_ml/preprocessing/_encoders.py(98)_transform_new()\n",
      "-> )\n",
      "(Pdb) c\n"
     ]
    },
    {
     "data": {
      "text/plain": [
       "<6x3 sparse matrix of type '<class 'numpy.float64'>'\n",
       "\twith 6 stored elements in Compressed Sparse Row format>"
      ]
     },
     "execution_count": 24,
     "metadata": {},
     "output_type": "execute_result"
    }
   ],
   "source": [
    "b.transform(X)"
   ]
  },
  {
   "cell_type": "code",
   "execution_count": 37,
   "metadata": {},
   "outputs": [
    {
     "data": {
      "text/plain": [
       "[array([0, 1, 2])]"
      ]
     },
     "execution_count": 37,
     "metadata": {},
     "output_type": "execute_result"
    }
   ],
   "source": [
    "a.categories_"
   ]
  },
  {
   "cell_type": "code",
   "execution_count": 38,
   "metadata": {},
   "outputs": [
    {
     "data": {
      "text/plain": [
       "[array([0, 1, 2])]"
      ]
     },
     "execution_count": 38,
     "metadata": {},
     "output_type": "execute_result"
    }
   ],
   "source": [
    "b.categories_"
   ]
  },
  {
   "cell_type": "code",
   "execution_count": null,
   "metadata": {},
   "outputs": [],
   "source": []
  },
  {
   "cell_type": "code",
   "execution_count": 24,
   "metadata": {},
   "outputs": [
    {
     "data": {
      "text/plain": [
       "OneHotEncoder(categorical_features=None, categories='auto',\n",
       "       dtype=<class 'numpy.float64'>, handle_unknown='error',\n",
       "       n_values=None, sparse=True)"
      ]
     },
     "execution_count": 24,
     "metadata": {},
     "output_type": "execute_result"
    }
   ],
   "source": [
    "ohe.cakk"
   ]
  },
  {
   "cell_type": "code",
   "execution_count": null,
   "metadata": {},
   "outputs": [],
   "source": []
  },
  {
   "cell_type": "code",
   "execution_count": null,
   "metadata": {},
   "outputs": [],
   "source": []
  },
  {
   "cell_type": "code",
   "execution_count": 25,
   "metadata": {},
   "outputs": [],
   "source": [
    "le = dask_ml.preprocessing.LabelEncoder()\n",
    "codes = le.fit_transform(data)"
   ]
  },
  {
   "cell_type": "code",
   "execution_count": 26,
   "metadata": {},
   "outputs": [
    {
     "data": {
      "text/plain": [
       "Dask Series Structure:\n",
       "npartitions=10\n",
       "    category[known]\n",
       "                ...\n",
       "         ...       \n",
       "                ...\n",
       "                ...\n",
       "dtype: category\n",
       "Dask Name: cat, 70 tasks"
      ]
     },
     "execution_count": 26,
     "metadata": {},
     "output_type": "execute_result"
    }
   ],
   "source": [
    "le.inverse_transform(codes)"
   ]
  },
  {
   "cell_type": "code",
   "execution_count": 23,
   "metadata": {},
   "outputs": [
    {
     "name": "stdout",
     "output_type": "stream",
     "text": [
      "fit\n",
      "43.5 µs ± 699 ns per loop (mean ± std. dev. of 7 runs, 10000 loops each)\n",
      "transform\n",
      "678 µs ± 22.1 µs per loop (mean ± std. dev. of 7 runs, 1000 loops each)\n",
      "transform-compute\n",
      "4.98 ms ± 40.7 µs per loop (mean ± std. dev. of 7 runs, 100 loops each)\n",
      "inverse_transform\n",
      "3.66 ms ± 42.7 µs per loop (mean ± std. dev. of 7 runs, 100 loops each)\n",
      "inverse_transform-compute\n",
      "37 ms ± 376 µs per loop (mean ± std. dev. of 7 runs, 10 loops each)\n"
     ]
    }
   ],
   "source": [
    "print('fit')\n",
    "%timeit le.fit(data)\n",
    "print('transform')\n",
    "%timeit le.transform(data)\n",
    "\n",
    "print('transform-compute')\n",
    "%timeit le.transform(data).compute()\n",
    "\n",
    "print('inverse_transform')\n",
    "%timeit le.inverse_transform(codes)\n",
    "\n",
    "print('inverse_transform-compute')\n",
    "%timeit le.inverse_transform(codes).compute()"
   ]
  },
  {
   "cell_type": "code",
   "execution_count": 24,
   "metadata": {},
   "outputs": [
    {
     "name": "stdout",
     "output_type": "stream",
     "text": [
      "fit\n",
      "625 ms ± 8.03 ms per loop (mean ± std. dev. of 7 runs, 1 loop each)\n",
      "transform\n",
      "33.1 ms ± 584 µs per loop (mean ± std. dev. of 7 runs, 10 loops each)\n",
      "transform-compute\n",
      "182 ms ± 2.38 ms per loop (mean ± std. dev. of 7 runs, 10 loops each)\n",
      "inverse_transform\n",
      "240 µs ± 3.51 µs per loop (mean ± std. dev. of 7 runs, 1000 loops each)\n",
      "inverse_transform-compute\n",
      "160 ms ± 4.63 ms per loop (mean ± std. dev. of 7 runs, 10 loops each)\n"
     ]
    }
   ],
   "source": [
    "le = dask_ml.preprocessing.LabelEncoder(use_categorical=False)\n",
    "codes = le.fit_transform(data)\n",
    "\n",
    "print('fit')\n",
    "%timeit le.fit(data)\n",
    "print('transform')\n",
    "%timeit le.transform(data)\n",
    "\n",
    "print('transform-compute')\n",
    "%timeit le.transform(data).compute()\n",
    "\n",
    "print('inverse_transform')\n",
    "%timeit le.inverse_transform(codes)\n",
    "\n",
    "print('inverse_transform-compute')\n",
    "%timeit le.inverse_transform(codes).compute()"
   ]
  },
  {
   "cell_type": "code",
   "execution_count": null,
   "metadata": {},
   "outputs": [],
   "source": []
  }
 ],
 "metadata": {
  "kernelspec": {
   "display_name": "Python 3",
   "language": "python",
   "name": "python3"
  },
  "language_info": {
   "codemirror_mode": {
    "name": "ipython",
    "version": 3
   },
   "file_extension": ".py",
   "mimetype": "text/x-python",
   "name": "python",
   "nbconvert_exporter": "python",
   "pygments_lexer": "ipython3",
   "version": "3.6.5"
  }
 },
 "nbformat": 4,
 "nbformat_minor": 2
}
